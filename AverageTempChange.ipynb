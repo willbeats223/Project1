{
 "cells": [
  {
   "cell_type": "code",
   "execution_count": 1,
   "id": "d3a0bd41-b619-4bf0-9195-03253839ac56",
   "metadata": {},
   "outputs": [],
   "source": [
    "#Import necessary libraries\n",
    "import pandas as pd\n",
    "from pathlib import Path\n",
    "%matplotlib inline"
   ]
  },
  {
   "cell_type": "code",
   "execution_count": 2,
   "id": "df9810c6-1083-4978-b8e9-b7befd6623ee",
   "metadata": {},
   "outputs": [],
   "source": [
    "#Find and sort the values in a variable\n",
    "temp_path = Path('Resources/US_Annual_Surface_Temp_Change.csv')"
   ]
  },
  {
   "cell_type": "code",
   "execution_count": 3,
   "id": "78c516ef-3907-44d9-87ea-e35e587aa6e1",
   "metadata": {},
   "outputs": [],
   "source": [
    "#Read the csv files and store in a variable\n",
    "temp_df = pd.read_csv(temp_path,index_col='Fiscal Year', parse_dates=True)"
   ]
  },
  {
   "cell_type": "code",
   "execution_count": 6,
   "id": "8ef62dcd-f197-4977-8bb9-6fb4cd1ae180",
   "metadata": {},
   "outputs": [
    {
     "data": {
      "text/html": [
       "<div>\n",
       "<style scoped>\n",
       "    .dataframe tbody tr th:only-of-type {\n",
       "        vertical-align: middle;\n",
       "    }\n",
       "\n",
       "    .dataframe tbody tr th {\n",
       "        vertical-align: top;\n",
       "    }\n",
       "\n",
       "    .dataframe thead th {\n",
       "        text-align: right;\n",
       "    }\n",
       "</style>\n",
       "<table border=\"1\" class=\"dataframe\">\n",
       "  <thead>\n",
       "    <tr style=\"text-align: right;\">\n",
       "      <th></th>\n",
       "      <th>Avg Surface Temperature Change</th>\n",
       "    </tr>\n",
       "    <tr>\n",
       "      <th>Fiscal Year</th>\n",
       "      <th></th>\n",
       "    </tr>\n",
       "  </thead>\n",
       "  <tbody>\n",
       "    <tr>\n",
       "      <th>2003-01-01</th>\n",
       "      <td>0.990</td>\n",
       "    </tr>\n",
       "    <tr>\n",
       "      <th>2004-01-01</th>\n",
       "      <td>0.863</td>\n",
       "    </tr>\n",
       "    <tr>\n",
       "      <th>2005-01-01</th>\n",
       "      <td>1.153</td>\n",
       "    </tr>\n",
       "    <tr>\n",
       "      <th>2006-01-01</th>\n",
       "      <td>1.026</td>\n",
       "    </tr>\n",
       "    <tr>\n",
       "      <th>2007-01-01</th>\n",
       "      <td>1.143</td>\n",
       "    </tr>\n",
       "    <tr>\n",
       "      <th>2008-01-01</th>\n",
       "      <td>0.212</td>\n",
       "    </tr>\n",
       "    <tr>\n",
       "      <th>2009-01-01</th>\n",
       "      <td>0.398</td>\n",
       "    </tr>\n",
       "    <tr>\n",
       "      <th>2010-01-01</th>\n",
       "      <td>0.695</td>\n",
       "    </tr>\n",
       "    <tr>\n",
       "      <th>2011-01-01</th>\n",
       "      <td>0.537</td>\n",
       "    </tr>\n",
       "    <tr>\n",
       "      <th>2012-01-01</th>\n",
       "      <td>1.448</td>\n",
       "    </tr>\n",
       "    <tr>\n",
       "      <th>2013-01-01</th>\n",
       "      <td>0.614</td>\n",
       "    </tr>\n",
       "    <tr>\n",
       "      <th>2014-01-01</th>\n",
       "      <td>0.501</td>\n",
       "    </tr>\n",
       "    <tr>\n",
       "      <th>2015-01-01</th>\n",
       "      <td>1.531</td>\n",
       "    </tr>\n",
       "    <tr>\n",
       "      <th>2016-01-01</th>\n",
       "      <td>2.224</td>\n",
       "    </tr>\n",
       "    <tr>\n",
       "      <th>2017-01-01</th>\n",
       "      <td>1.433</td>\n",
       "    </tr>\n",
       "    <tr>\n",
       "      <th>2018-01-01</th>\n",
       "      <td>1.276</td>\n",
       "    </tr>\n",
       "    <tr>\n",
       "      <th>2019-01-01</th>\n",
       "      <td>1.034</td>\n",
       "    </tr>\n",
       "    <tr>\n",
       "      <th>2020-01-01</th>\n",
       "      <td>1.324</td>\n",
       "    </tr>\n",
       "    <tr>\n",
       "      <th>2021-01-01</th>\n",
       "      <td>1.144</td>\n",
       "    </tr>\n",
       "    <tr>\n",
       "      <th>2022-01-01</th>\n",
       "      <td>1.217</td>\n",
       "    </tr>\n",
       "  </tbody>\n",
       "</table>\n",
       "</div>"
      ],
      "text/plain": [
       "             Avg Surface Temperature Change\n",
       "Fiscal Year                                \n",
       "2003-01-01                            0.990\n",
       "2004-01-01                            0.863\n",
       "2005-01-01                            1.153\n",
       "2006-01-01                            1.026\n",
       "2007-01-01                            1.143\n",
       "2008-01-01                            0.212\n",
       "2009-01-01                            0.398\n",
       "2010-01-01                            0.695\n",
       "2011-01-01                            0.537\n",
       "2012-01-01                            1.448\n",
       "2013-01-01                            0.614\n",
       "2014-01-01                            0.501\n",
       "2015-01-01                            1.531\n",
       "2016-01-01                            2.224\n",
       "2017-01-01                            1.433\n",
       "2018-01-01                            1.276\n",
       "2019-01-01                            1.034\n",
       "2020-01-01                            1.324\n",
       "2021-01-01                            1.144\n",
       "2022-01-01                            1.217"
      ]
     },
     "execution_count": 6,
     "metadata": {},
     "output_type": "execute_result"
    }
   ],
   "source": [
    "#Display the DataFrame\n",
    "temp_df"
   ]
  },
  {
   "cell_type": "code",
   "execution_count": null,
   "id": "95466687-8d83-4109-9606-ce5d70b75d55",
   "metadata": {},
   "outputs": [],
   "source": [
    "#temp_df = temp_df.reset_index()"
   ]
  },
  {
   "cell_type": "code",
   "execution_count": null,
   "id": "4f46e10a-3193-4652-826a-8a8d44765a24",
   "metadata": {},
   "outputs": [],
   "source": [
    "#temp_df['Fiscal Year'] = temp_df['Fiscal Year'][:5]"
   ]
  },
  {
   "cell_type": "code",
   "execution_count": null,
   "id": "50ef364a-ca6f-4d8e-a9e8-343e7d37c58d",
   "metadata": {},
   "outputs": [],
   "source": [
    "#temp_df.head()"
   ]
  },
  {
   "cell_type": "code",
   "execution_count": null,
   "id": "54bf3ca0-3b99-47d2-93e6-73403517d9f2",
   "metadata": {},
   "outputs": [],
   "source": [
    "for Season in df_closing_prices:\n",
    "    if df_closing_prices[timestamp][6] = 3 or df_closing_prices[timestamp][6] = 4 or df_closing_prices[timestamp][6] = 5:\n",
    "        df_closing_prices[Season] = 'Spring'\n",
    "    elif df_closing_prices[timestamp][6] = 6 or df_closing_prices[timestamp][6] = 7 or df_closing_prices[timestamp][6] = 8:\n",
    "        df_closing_prices[Season] = 'Summer'\n",
    "    elif df_closing_prices[timestamp][6] = 9 or df_closing_prices[timestamp][5:7] = 10 or df_closing_prices[timestamp][5:7] = 11:\n",
    "        df_closing_prices[Season] = 'Autumn'\n",
    "    else:\n",
    "        df_closing_prices[Season] = 'Winter'"
   ]
  },
  {
   "cell_type": "code",
   "execution_count": null,
   "id": "b6091b3f-e4c9-4fa4-8873-ee2320d4b945",
   "metadata": {},
   "outputs": [],
   "source": [
    "def get_season(month):\n",
    "    if month in [12, 1, 2]:\n",
    "        return 'Winter'\n",
    "    elif month in [3, 4, 5]:\n",
    "        return 'Spring'\n",
    "    elif month in [6, 7, 8]:\n",
    "        return 'Summer'\n",
    "    else:\n",
    "        return 'Fall'\n",
    "temp_df['season'] = temp_df['timestamp'].dt.month.apply(get_season)\n",
    "print(temp_df)"
   ]
  }
 ],
 "metadata": {
  "kernelspec": {
   "display_name": "Python 3 (ipykernel)",
   "language": "python",
   "name": "python3"
  },
  "language_info": {
   "codemirror_mode": {
    "name": "ipython",
    "version": 3
   },
   "file_extension": ".py",
   "mimetype": "text/x-python",
   "name": "python",
   "nbconvert_exporter": "python",
   "pygments_lexer": "ipython3",
   "version": "3.7.15"
  }
 },
 "nbformat": 4,
 "nbformat_minor": 5
}
