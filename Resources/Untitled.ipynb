{
 "cells": [
  {
   "cell_type": "code",
   "execution_count": 1,
   "id": "d967a52f-69ef-4dd6-a3a7-9eb333dcfef7",
   "metadata": {},
   "outputs": [],
   "source": [
    "import yfinance as yf\n"
   ]
  },
  {
   "cell_type": "code",
   "execution_count": 14,
   "id": "9103302e-677e-4b2a-92e6-8df0661763a2",
   "metadata": {},
   "outputs": [
    {
     "data": {
      "text/html": [
       "<div>\n",
       "<style scoped>\n",
       "    .dataframe tbody tr th:only-of-type {\n",
       "        vertical-align: middle;\n",
       "    }\n",
       "\n",
       "    .dataframe tbody tr th {\n",
       "        vertical-align: top;\n",
       "    }\n",
       "\n",
       "    .dataframe thead th {\n",
       "        text-align: right;\n",
       "    }\n",
       "</style>\n",
       "<table border=\"1\" class=\"dataframe\">\n",
       "  <thead>\n",
       "    <tr style=\"text-align: right;\">\n",
       "      <th></th>\n",
       "      <th>Close</th>\n",
       "    </tr>\n",
       "    <tr>\n",
       "      <th>Date</th>\n",
       "      <th></th>\n",
       "    </tr>\n",
       "  </thead>\n",
       "  <tbody>\n",
       "    <tr>\n",
       "      <th>2005-01-01 00:00:00-05:00</th>\n",
       "      <td>18.988831</td>\n",
       "    </tr>\n",
       "    <tr>\n",
       "      <th>2005-04-01 00:00:00-05:00</th>\n",
       "      <td>19.411873</td>\n",
       "    </tr>\n",
       "    <tr>\n",
       "      <th>2005-07-01 00:00:00-04:00</th>\n",
       "      <td>19.857204</td>\n",
       "    </tr>\n",
       "    <tr>\n",
       "      <th>2005-10-01 00:00:00-04:00</th>\n",
       "      <td>20.384069</td>\n",
       "    </tr>\n",
       "    <tr>\n",
       "      <th>2006-01-01 00:00:00-05:00</th>\n",
       "      <td>21.149076</td>\n",
       "    </tr>\n",
       "    <tr>\n",
       "      <th>...</th>\n",
       "      <td>...</td>\n",
       "    </tr>\n",
       "    <tr>\n",
       "      <th>2022-04-01 00:00:00-04:00</th>\n",
       "      <td>79.452217</td>\n",
       "    </tr>\n",
       "    <tr>\n",
       "      <th>2022-07-01 00:00:00-04:00</th>\n",
       "      <td>74.932823</td>\n",
       "    </tr>\n",
       "    <tr>\n",
       "      <th>2022-10-01 00:00:00-04:00</th>\n",
       "      <td>81.652802</td>\n",
       "    </tr>\n",
       "    <tr>\n",
       "      <th>2023-01-01 00:00:00-05:00</th>\n",
       "      <td>87.429092</td>\n",
       "    </tr>\n",
       "    <tr>\n",
       "      <th>2023-04-01 00:00:00-04:00</th>\n",
       "      <td>88.739998</td>\n",
       "    </tr>\n",
       "  </tbody>\n",
       "</table>\n",
       "<p>74 rows × 1 columns</p>\n",
       "</div>"
      ],
      "text/plain": [
       "                               Close\n",
       "Date                                \n",
       "2005-01-01 00:00:00-05:00  18.988831\n",
       "2005-04-01 00:00:00-05:00  19.411873\n",
       "2005-07-01 00:00:00-04:00  19.857204\n",
       "2005-10-01 00:00:00-04:00  20.384069\n",
       "2006-01-01 00:00:00-05:00  21.149076\n",
       "...                              ...\n",
       "2022-04-01 00:00:00-04:00  79.452217\n",
       "2022-07-01 00:00:00-04:00  74.932823\n",
       "2022-10-01 00:00:00-04:00  81.652802\n",
       "2023-01-01 00:00:00-05:00  87.429092\n",
       "2023-04-01 00:00:00-04:00  88.739998\n",
       "\n",
       "[74 rows x 1 columns]"
      ]
     },
     "execution_count": 14,
     "metadata": {},
     "output_type": "execute_result"
    }
   ],
   "source": [
    "susa = yf.Ticker('SUSA')\n",
    "susa_df= susa.history(period = '20y',interval='3mo')\n",
    "susa_df[['Close']]"
   ]
  },
  {
   "cell_type": "code",
   "execution_count": null,
   "id": "2ea06cb1-5f3c-45e1-a8ce-0baeebe19c26",
   "metadata": {},
   "outputs": [],
   "source": []
  }
 ],
 "metadata": {
  "kernelspec": {
   "display_name": "Python 3 (ipykernel)",
   "language": "python",
   "name": "python3"
  },
  "language_info": {
   "codemirror_mode": {
    "name": "ipython",
    "version": 3
   },
   "file_extension": ".py",
   "mimetype": "text/x-python",
   "name": "python",
   "nbconvert_exporter": "python",
   "pygments_lexer": "ipython3",
   "version": "3.10.11"
  }
 },
 "nbformat": 4,
 "nbformat_minor": 5
}
